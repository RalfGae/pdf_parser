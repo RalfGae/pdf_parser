{
 "cells": [
  {
   "cell_type": "code",
   "execution_count": null,
   "metadata": {},
   "outputs": [],
   "source": [
    "from PIL import Image\n",
    "import fitz # PyMuPDF is imported as fitz\n",
    "\n",
    "path = \"data/Readme.pdf\"\n",
    "outPath = \"output/\"\n",
    "doc = fitz.open(path)\n",
    "page = doc.load_page(0)\n",
    "\n",
    "print(page.get_text(\"text\"))\n",
    "print(page.get_text(\"dict\"))\n",
    "print(page.get_text(\"html\"))\n",
    "print(page.get_fonts())\n",
    "\n",
    "\n",
    "pixmap = page.get_pixmap(dpi=500)\n",
    "\n",
    "image = Image.frombytes(\"RGB\", [pixmap.width, pixmap.height], pixmap.samples)\n",
    "image\n",
    "image.save(outPath + \"image_from_pixmap.jpg\")"
   ]
  },
  {
   "cell_type": "code",
   "execution_count": null,
   "metadata": {},
   "outputs": [],
   "source": [
    "import os\n",
    "import pytesseract\n",
    "from PIL import Image\n",
    "\n",
    "def extract_text_with_tesseract(image):\n",
    "    try:\n",
    "        # Text extraction\n",
    "        text = pytesseract.image_to_string(image, lang='eng')  # 'deu' for German\n",
    "        \n",
    "        return text\n",
    "    except Exception as e:\n",
    "        print(f\"Error during text extraction: {e}\")\n",
    "        return None\n",
    "\n",
    "# List all files in the directory\n",
    "files = os.listdir(outPath)\n",
    "\n",
    "# Loop through each file in the directory\n",
    "for file in files:\n",
    "    # Check if the file is an image (assuming .jpg, .png, .jpeg)\n",
    "    if file.lower().endswith(('.jpg', '.png', '.jpeg')):\n",
    "        # Construct the full path to the image\n",
    "        image_path = os.path.join(outPath, file)\n",
    "        \n",
    "        # Extract text using Tesseract\n",
    "        extracted_text = extract_text_with_tesseract(image_path)\n",
    "        \n",
    "        # Print extracted text if any\n",
    "        if extracted_text:\n",
    "            print(f\"Extracted text from {file}:\")\n",
    "            print(extracted_text)\n"
   ]
  }
 ],
 "metadata": {
  "kernelspec": {
   "display_name": "Python 3",
   "language": "python",
   "name": "python3"
  },
  "language_info": {
   "codemirror_mode": {
    "name": "ipython",
    "version": 3
   },
   "file_extension": ".py",
   "mimetype": "text/x-python",
   "name": "python",
   "nbconvert_exporter": "python",
   "pygments_lexer": "ipython3",
   "version": "3.12.3"
  }
 },
 "nbformat": 4,
 "nbformat_minor": 2
}
