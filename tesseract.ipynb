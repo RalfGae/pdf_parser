{
 "cells": [
  {
   "cell_type": "code",
   "execution_count": 4,
   "metadata": {},
   "outputs": [
    {
     "name": "stdout",
     "output_type": "stream",
     "text": [
      "pdf parser\n",
      "Description\n",
      "A open source parser for pdfs:\n",
      "pdf2image\n",
      "image2text\n",
      "\n",
      "{'width': 595.3200073242188, 'height': 841.9200439453125, 'blocks': [{'number': 0, 'type': 0, 'bbox': (56.76000213623047, 57.107601165771484, 201.7105712890625, 97.9920883178711), 'lines': [{'spans': [{'size': 12.000450134277344, 'flags': 4, 'font': 'CIDFont+F1', 'color': -16777216, 'ascender': 0.890999972820282, 'descender': -0.2160000056028366, 'text': 'pdf parser', 'origin': (56.76000213623047, 67.80000305175781), 'bbox': (56.76000213623047, 57.107601165771484, 105.03617095947266, 70.39209747314453)}], 'wmode': 0, 'dir': (1.0, 0.0), 'bbox': (56.76000213623047, 57.107601165771484, 105.03617095947266, 70.39209747314453)}, {'spans': [{'size': 12.000450134277344, 'flags': 4, 'font': 'CIDFont+F1', 'color': -16777216, 'ascender': 0.890999972820282, 'descender': -0.2160000056028366, 'text': 'Description', 'origin': (56.76000213623047, 81.60000610351562), 'bbox': (56.76000213623047, 70.90760803222656, 112.71232604980469, 84.19210052490234)}], 'wmode': 0, 'dir': (1.0, 0.0), 'bbox': (56.76000213623047, 70.90760803222656, 112.71232604980469, 84.19210052490234)}, {'spans': [{'size': 12.000450134277344, 'flags': 4, 'font': 'CIDFont+F1', 'color': -16777216, 'ascender': 0.890999972820282, 'descender': -0.2160000056028366, 'text': 'A open source parser for pdfs:', 'origin': (56.76000213623047, 95.39999389648438), 'bbox': (56.76000213623047, 84.70759582519531, 201.7105712890625, 97.9920883178711)}], 'wmode': 0, 'dir': (1.0, 0.0), 'bbox': (56.76000213623047, 84.70759582519531, 201.7105712890625, 97.9920883178711)}]}, {'number': 1, 'type': 0, 'bbox': (56.76000213623047, 112.30760192871094, 110.04631042480469, 139.39208984375), 'lines': [{'spans': [{'size': 12.000450134277344, 'flags': 4, 'font': 'CIDFont+F1', 'color': -16777216, 'ascender': 0.890999972820282, 'descender': -0.2160000056028366, 'text': 'pdf2image', 'origin': (56.76000213623047, 123.0), 'bbox': (56.76000213623047, 112.30760192871094, 108.06815338134766, 125.59209442138672)}], 'wmode': 0, 'dir': (1.0, 0.0), 'bbox': (56.76000213623047, 112.30760192871094, 108.06815338134766, 125.59209442138672)}, {'spans': [{'size': 12.000450134277344, 'flags': 4, 'font': 'CIDFont+F1', 'color': -16777216, 'ascender': 0.890999972820282, 'descender': -0.2160000056028366, 'text': 'image2text', 'origin': (56.76000213623047, 136.79998779296875), 'bbox': (56.76000213623047, 126.10758972167969, 110.04631042480469, 139.39208984375)}], 'wmode': 0, 'dir': (1.0, 0.0), 'bbox': (56.76000213623047, 126.10758972167969, 110.04631042480469, 139.39208984375)}]}]}\n",
      "<div id=\"page0\" style=\"width:595.3pt;height:841.9pt\">\n",
      "<p style=\"top:58.2pt;left:56.8pt;line-height:12.0pt\"><span style=\"font-family:F1,serif;font-size:12.0pt;color:#000000\">pdf parser</span></p>\n",
      "<p style=\"top:72.0pt;left:56.8pt;line-height:12.0pt\"><span style=\"font-family:F1,serif;font-size:12.0pt;color:#000000\">Description</span></p>\n",
      "<p style=\"top:85.8pt;left:56.8pt;line-height:12.0pt\"><span style=\"font-family:F1,serif;font-size:12.0pt;color:#000000\">A open source parser for pdfs:</span></p>\n",
      "<p style=\"top:113.4pt;left:56.8pt;line-height:12.0pt\"><span style=\"font-family:F1,serif;font-size:12.0pt;color:#000000\">pdf2image</span></p>\n",
      "<p style=\"top:127.2pt;left:56.8pt;line-height:12.0pt\"><span style=\"font-family:F1,serif;font-size:12.0pt;color:#000000\">image2text</span></p>\n",
      "</div>\n",
      "\n",
      "[(11, 'ttf', 'Type0', 'CIDFont+F1', 'F1', 'Identity-H')]\n"
     ]
    }
   ],
   "source": [
    "from PIL import Image\n",
    "import fitz # PyMuPDF is imported as fitz\n",
    "\n",
    "path = \"data/Readme.pdf\"\n",
    "doc = fitz.open(path)\n",
    "page = doc.load_page(0)\n",
    "\n",
    "print(page.get_text(\"text\"))\n",
    "print(page.get_text(\"dict\"))\n",
    "print(page.get_text(\"html\"))\n",
    "print(page.get_fonts())\n",
    "\n",
    "\n",
    "pixmap = page.get_pixmap(dpi=500)\n",
    "\n",
    "image = Image.frombytes(\"RGB\", [pixmap.width, pixmap.height], pixmap.samples)\n",
    "image\n",
    "image.save(\"image_from_pixmap.jpg\")"
   ]
  },
  {
   "cell_type": "code",
   "execution_count": 5,
   "metadata": {},
   "outputs": [
    {
     "name": "stdout",
     "output_type": "stream",
     "text": [
      "pdf parser\n",
      "Description\n",
      "A open source parser for pdfs:\n",
      "\n",
      "pdf2image\n",
      "image2text\n",
      "\n"
     ]
    }
   ],
   "source": [
    "import pytesseract\n",
    "from PIL import Image\n",
    "\n",
    "def extract_text_with_tesseract(image):\n",
    "    try:\n",
    "        # Text extraction\n",
    "        text = pytesseract.image_to_string(image, lang='eng')  # 'deu' for German\n",
    "        \n",
    "        return text\n",
    "    except Exception as e:\n",
    "        print(f\"Error during text extraction: {e}\")\n",
    "        return None\n",
    "\n",
    "# Beispielaufruf\n",
    "image_path = \"image_from_pixmap.jpg\"\n",
    "extracted_text = extract_text_with_tesseract(image_path)\n",
    "if extracted_text:\n",
    "    print(extracted_text)\n"
   ]
  }
 ],
 "metadata": {
  "kernelspec": {
   "display_name": "Python 3",
   "language": "python",
   "name": "python3"
  },
  "language_info": {
   "codemirror_mode": {
    "name": "ipython",
    "version": 3
   },
   "file_extension": ".py",
   "mimetype": "text/x-python",
   "name": "python",
   "nbconvert_exporter": "python",
   "pygments_lexer": "ipython3",
   "version": "3.12.3"
  }
 },
 "nbformat": 4,
 "nbformat_minor": 2
}
