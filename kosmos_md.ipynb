{
 "cells": [
  {
   "cell_type": "code",
   "execution_count": null,
   "metadata": {},
   "outputs": [],
   "source": [
    "import torch\n",
    "import json\n",
    "import textwrap\n",
    "\n",
    "#repo = \"models/kosmos-2.5\"\n",
    "repo = \"models/kosmos-2-patch14-224\"\n",
    "\n",
    "# Open and read the JSON file with\n",
    "json_path = repo + \"/config.json\"\n",
    "with open(json_path, 'r') as file:\n",
    "    config_data = json.load(file)\n",
    "\n",
    "if repo == \"models/kosmos-2.5\":\n",
    "    from transformers import AutoProcessor, AutoConfig, AutoModelForVision2Seq\n",
    "    \n",
    "if repo == \"models/kosmos-2-patch14-224\":\n",
    "    from transformers import AutoProcessor, AutoModelForImageTextToText\n",
    "\n",
    "import fitz  # PyMuPDF is imported as fitz\n",
    "from PIL import Image"
   ]
  },
  {
   "cell_type": "code",
   "execution_count": null,
   "metadata": {},
   "outputs": [],
   "source": [
    "torch.cuda.is_available()"
   ]
  },
  {
   "cell_type": "code",
   "execution_count": null,
   "metadata": {},
   "outputs": [],
   "source": [
    "path = \"data/Readme.pdf\"\n",
    "doc = fitz.open(path)\n",
    "page = doc.load_page(0)\n",
    "\n",
    "print(page.get_text(\"text\"))\n",
    "print(page.get_text(\"dict\"))\n",
    "print(page.get_text(\"html\"))\n",
    "print(page.get_fonts())\n",
    "\n",
    "\n",
    "pixmap = page.get_pixmap(dpi=500)\n",
    "\n",
    "image = Image.frombytes(\"RGB\", [pixmap.width, pixmap.height], pixmap.samples)\n",
    "image"
   ]
  },
  {
   "cell_type": "code",
   "execution_count": 4,
   "metadata": {},
   "outputs": [],
   "source": [
    "device = \"cuda\"\n",
    "dtype = torch.float16\n",
    "\n",
    "if repo == \"models/kosmos-2.5\":\n",
    "    config = AutoConfig.from_pretrained(repo)\n",
    "    # Load model directly\n",
    "    model = AutoModelForVision2Seq.from_pretrained(\n",
    "        repo, device_map=device, torch_dtype=dtype, config=config\n",
    "    )\n",
    "    processor = AutoProcessor.from_pretrained(repo)\n",
    "if repo == \"models/kosmos-2-patch14-224\":\n",
    "    # Load model directly\n",
    "    processor = AutoProcessor.from_pretrained(\"microsoft/kosmos-2-patch14-224\")\n",
    "    model = AutoModelForImageTextToText.from_pretrained(\"microsoft/kosmos-2-patch14-224\")\n",
    "    \n",
    "# Move model to the correct device and dtype\n",
    "model.to(device)\n",
    "model = model.half() if dtype == torch.float16 else model.float()"
   ]
  },
  {
   "cell_type": "code",
   "execution_count": null,
   "metadata": {},
   "outputs": [],
   "source": [
    "inputs = processor(\n",
    "    images=image,\n",
    "    text=\"Extract the exact text from the image to markdown format <md>\",\n",
    "    return_tensor=\"pt\"\n",
    ")\n",
    "\n",
    "# Safely retrieve the height and width if they exist\n",
    "height = inputs.pop(\"height\", None)\n",
    "width = inputs.pop(\"width\", None)\n",
    "\n",
    "if height is None or width is None:\n",
    "    print(\"Height or width not found in inputs.\")\n",
    "else:\n",
    "    print(f\"Height: {height}, Width: {width}\")\n",
    "\n",
    "# Safely handle 'flattened_patches'\n",
    "if \"flattened_patches\" in inputs:\n",
    "    inputs[\"flattened_patches\"] = inputs[\"flattened_patches\"].to(dtype)\n",
    "else: \n",
    "    print(\"'flattened_patches' key not found in inputs.\")\n",
    "\n",
    "import numpy as np\n",
    "\n",
    "# Handle lists, numpy arrays, and simple types separately\n",
    "def convert_to_tensor(value):\n",
    "    if isinstance(value, np.ndarray):\n",
    "        return torch.tensor(value, dtype=dtype).to(device)\n",
    "    elif isinstance(value, list):\n",
    "        return torch.stack([convert_to_tensor(item) if isinstance(item, (np.ndarray, int, float)) else item.to(device) for item in value])\n",
    "        #return [convert_to_tensor(item) for item in value]\n",
    "    elif isinstance(value, (int, float)):\n",
    "        return torch.tensor(value, dtype=dtype).to(device)\n",
    "    elif value is not None:\n",
    "        return value.to(device)\n",
    "    else:\n",
    "        return None\n",
    "    \n",
    "inputs = {k: convert_to_tensor(v) for k, v in inputs.items()}\n",
    "\n",
    "# Ensure input_ids and attention_mask are in the correct dtype\n",
    "if \"input_ids\" in inputs:\n",
    "    inputs[\"input_ids\"] = inputs[\"input_ids\"].to(torch.long)\n",
    "if \"attention_mask\" in inputs:\n",
    "    inputs[\"attention_mask\"] = inputs[\"attention_mask\"].to(torch.long)\n",
    "if \"image_embeds_position_mask\" in inputs:\n",
    "    inputs[\"image_embeds_position_mask\"] = inputs[\"image_embeds_position_mask\"].to(torch.long)\n",
    "\n",
    "# Check and fix batch size consistency\n",
    "batch_size = inputs[\"pixel_values\"].shape[0]\n",
    "for key, tensor in inputs.items(): \n",
    "    if tensor is not None and tensor.shape[0] != batch_size:\n",
    "        # Add a new dimension and repeat to match the batch size if needed\n",
    "        if tensor.dim() == 1:\n",
    "            tensor = tensor.unsqueeze(0).repeat(batch_size, 1)\n",
    "        elif tensor.dim() == 2:\n",
    "            tensor = tensor.unsqueeze(0).repeat(batch_size, 1, 1)\n",
    "        else:\n",
    "            tensor = tensor.unsqueeze(0).repeat(batch_size, *[1]*(tensor.dim()-1))\n",
    "        inputs[key] = tensor\n",
    "\n",
    "# Check shapes and types\n",
    "for key, tensor in inputs.items():\n",
    "    if tensor is not None:\n",
    "        print(f\"Key: {key}, Shape: {tensor.shape}, Type: {tensor.dtype}\")"
   ]
  },
  {
   "cell_type": "code",
   "execution_count": 6,
   "metadata": {},
   "outputs": [],
   "source": [
    "# Generate IDs\n",
    "generated_ids = model.generate(\n",
    "    **inputs,\n",
    "    max_new_tokens=4096,\n",
    "    repetition_penalty=1.05\n",
    ")"
   ]
  },
  {
   "cell_type": "code",
   "execution_count": null,
   "metadata": {},
   "outputs": [],
   "source": [
    "generated_ids"
   ]
  },
  {
   "cell_type": "code",
   "execution_count": null,
   "metadata": {},
   "outputs": [],
   "source": [
    "generated_text = processor.batch_decode(\n",
    "    generated_ids,\n",
    "    skip_special_tokens=True\n",
    ")\n",
    "\n",
    "print(\"\\n\".join(textwrap.wrap(generated_text[0], width=80)))"
   ]
  }
 ],
 "metadata": {
  "kernelspec": {
   "display_name": "Python 3",
   "language": "python",
   "name": "python3"
  },
  "language_info": {
   "codemirror_mode": {
    "name": "ipython",
    "version": 3
   },
   "file_extension": ".py",
   "mimetype": "text/x-python",
   "name": "python",
   "nbconvert_exporter": "python",
   "pygments_lexer": "ipython3",
   "version": "3.12.3"
  }
 },
 "nbformat": 4,
 "nbformat_minor": 2
}
